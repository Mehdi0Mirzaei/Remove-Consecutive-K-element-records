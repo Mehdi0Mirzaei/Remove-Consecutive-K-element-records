{
 "cells": [
  {
   "cell_type": "code",
   "execution_count": 20,
   "id": "bb2e0125",
   "metadata": {},
   "outputs": [
    {
     "name": "stdout",
     "output_type": "stream",
     "text": [
      "The original list is : [(4, 5, 6, 3), (5, 6, 6, 9), (1, 3, 5, 6), (6, 6, 7, 8)]\n",
      "The records after removal : [(4, 5, 6, 3), (1, 3, 5, 6)]\n"
     ]
    }
   ],
   "source": [
    "# initializing list\n",
    "test_list = [(4, 5, 6, 3), (5, 6, 6, 9), (1, 3, 5, 6), (6, 6, 7, 8)]\n",
    " \n",
    "# printing original list\n",
    "print(\"The original list is : \" + str(test_list))\n",
    " \n",
    "# initializing K\n",
    "K = 6\n",
    " \n",
    "# Remove Consecutive K element records\n",
    "# Using zip() + list comprehension\n",
    "res = [idx for idx in test_list if (K, K) not in zip(idx, idx[1:])]\n",
    " \n",
    "# printing result\n",
    "print(\"The records after removal : \" + str(res))"
   ]
  },
  {
   "cell_type": "code",
   "execution_count": 21,
   "id": "3d173b8f",
   "metadata": {},
   "outputs": [
    {
     "name": "stdout",
     "output_type": "stream",
     "text": [
      "The original list is : [(4, 5, 6, 3), (5, 6, 6, 9), (1, 3, 5, 6), (6, 6, 7, 8)]\n",
      "The records after removal : [(4, 5, 6, 3), (1, 3, 5, 6)]\n"
     ]
    }
   ],
   "source": [
    "test_list = [(4, 5, 6, 3), (5, 6, 6, 9), (1, 3, 5, 6), (6, 6, 7, 8)]\n",
    " \n",
    "# printing original list\n",
    "print(\"The original list is : \" + str(test_list))\n",
    " \n",
    "# initializing K\n",
    "K = 6\n",
    " \n",
    "# Remove Consecutive K element records\n",
    "# Using any() + list comprehension\n",
    "res = [idx for idx in test_list if not any(idx[j] == K and idx[j + 1] == K for j in range(len(idx) - 1))]\n",
    " \n",
    "# printing result\n",
    "print(\"The records after removal : \" + str(res))"
   ]
  },
  {
   "cell_type": "code",
   "execution_count": 22,
   "id": "51c9a901",
   "metadata": {},
   "outputs": [
    {
     "name": "stdout",
     "output_type": "stream",
     "text": [
      "The records after removal :  [(4, 5, 6, 3), (1, 3, 5, 6)]\n"
     ]
    }
   ],
   "source": [
    "test_list = [(4, 5, 6, 3), (5, 6, 6, 9), (1, 3, 5, 6), (6, 6, 7, 8)]\n",
    "K = 6\n",
    " \n",
    "temp_list = []\n",
    "for item in test_list:\n",
    "    skip = False\n",
    "    for i in range(len(item)-1):\n",
    "        if item[i] == K and item[i+1] == K:\n",
    "            skip = True\n",
    "            break\n",
    "    if not skip:\n",
    "        temp_list.append(item)\n",
    "res = temp_list\n",
    " \n",
    "print(\"The records after removal : \", res)"
   ]
  },
  {
   "cell_type": "code",
   "execution_count": 23,
   "id": "8f326be2",
   "metadata": {},
   "outputs": [
    {
     "name": "stdout",
     "output_type": "stream",
     "text": [
      "The records after removal :  [(4, 5, 6, 3), (1, 3, 5, 6)]\n"
     ]
    }
   ],
   "source": [
    "test_list = [(4, 5, 6, 3), (5, 6, 6, 9), (1, 3, 5, 6), (6, 6, 7, 8)]\n",
    "K = 6\n",
    " \n",
    "res = list(filter(lambda x: not any(i == j == K for i, j in zip(x, x[1:])), test_list))\n",
    " \n",
    "print(\"The records after removal : \", res)"
   ]
  },
  {
   "cell_type": "code",
   "execution_count": 24,
   "id": "530b912b",
   "metadata": {},
   "outputs": [
    {
     "name": "stdout",
     "output_type": "stream",
     "text": [
      "The records after removal :  [(4, 5, 6, 3), (1, 3, 5, 6)]\n"
     ]
    }
   ],
   "source": [
    "import itertools\n",
    " \n",
    "test_list = [(4, 5, 6, 3), (5, 6, 6, 9), (1, 3, 5, 6), (6, 6, 7, 8)]\n",
    "K = 6\n",
    " \n",
    "res = list(itertools.filterfalse(lambda item: any(item[i] == K and item[i+1] == K for i in range(len(item)-1)), test_list))\n",
    " \n",
    "print(\"The records after removal : \", res)"
   ]
  },
  {
   "cell_type": "code",
   "execution_count": 25,
   "id": "61fa5eaa",
   "metadata": {},
   "outputs": [
    {
     "name": "stdout",
     "output_type": "stream",
     "text": [
      "The original list is : [(4, 5, 6, 3), (5, 6, 6, 9), (1, 3, 5, 6), (6, 6, 7, 8)]\n",
      "The records after removal :  [[4 5 6 3]\n",
      " [1 3 5 6]]\n"
     ]
    }
   ],
   "source": [
    "import numpy as np\n",
    " \n",
    "test_list = [(4, 5, 6, 3), (5, 6, 6, 9), (1, 3, 5, 6), (6, 6, 7, 8)]\n",
    "K = 6\n",
    "# printing original list\n",
    "print(\"The original list is : \" + str(test_list))\n",
    "# Convert list of tuples to 2D NumPy array\n",
    "arr = np.array(test_list)\n",
    " \n",
    "# Check if consecutive elements in each row are equal to K\n",
    "mask = np.logical_not(np.any((arr[:,:-1] == K) & (arr[:,1:] == K), axis=1))\n",
    " \n",
    "# Filter the rows based on the mask\n",
    "res = arr[mask]\n",
    " \n",
    "print(\"The records after removal : \", res)"
   ]
  },
  {
   "cell_type": "code",
   "execution_count": null,
   "id": "aceb02c9",
   "metadata": {},
   "outputs": [],
   "source": []
  }
 ],
 "metadata": {
  "kernelspec": {
   "display_name": "Python 3 (ipykernel)",
   "language": "python",
   "name": "python3"
  },
  "language_info": {
   "codemirror_mode": {
    "name": "ipython",
    "version": 3
   },
   "file_extension": ".py",
   "mimetype": "text/x-python",
   "name": "python",
   "nbconvert_exporter": "python",
   "pygments_lexer": "ipython3",
   "version": "3.9.13"
  }
 },
 "nbformat": 4,
 "nbformat_minor": 5
}
